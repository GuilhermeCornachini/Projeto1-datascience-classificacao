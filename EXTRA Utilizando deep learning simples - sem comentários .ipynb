{
 "cells": [
  {
   "cell_type": "code",
   "execution_count": 1,
   "metadata": {},
   "outputs": [],
   "source": [
    "import pandas as pd \n",
    "import numpy as np\n",
    "from sklearn.metrics import confusion_matrix, accuracy_score,log_loss\n",
    "from imblearn.under_sampling import NearMiss\n",
    "from sklearn.preprocessing import MinMaxScaler\n",
    "from sklearn.model_selection import train_test_split\n",
    "import torch\n",
    "import torch.nn as nn"
   ]
  },
  {
   "cell_type": "code",
   "execution_count": 2,
   "metadata": {},
   "outputs": [],
   "source": [
    "train = pd.read_csv('train.csv')"
   ]
  },
  {
   "cell_type": "code",
   "execution_count": 3,
   "metadata": {},
   "outputs": [],
   "source": [
    "X = train.drop(columns=['Response','id'])\n",
    "Y = train['Response']\n",
    "X = pd.get_dummies(X)\n",
    "\n",
    "NM = NearMiss()\n",
    "X,Y = NM.fit_sample(X,Y)\n",
    "\n",
    "MMS = MinMaxScaler()\n",
    "X[X.columns] = MMS.fit_transform(X[X.columns])\n",
    "X = X.rename(columns={'Vehicle_Age_1-2 Year':'Veiculo_1_e_2','Vehicle_Age_< 1 Year':'Veiculo_Menor_1',\n",
    "                     'Vehicle_Age_> 2 Years':'Veiculo_Maior_2'})"
   ]
  },
  {
   "cell_type": "code",
   "execution_count": 4,
   "metadata": {},
   "outputs": [],
   "source": [
    "X_train, X_test, Y_train, Y_test = train_test_split(X,Y,test_size=0.5)"
   ]
  },
  {
   "cell_type": "code",
   "execution_count": 5,
   "metadata": {},
   "outputs": [],
   "source": [
    "torch.manual_seed(1)\n",
    "np.random.seed(1)"
   ]
  },
  {
   "cell_type": "code",
   "execution_count": 6,
   "metadata": {},
   "outputs": [],
   "source": [
    "X_train = torch.tensor(np.array(X_train), dtype=torch.float)\n",
    "X_test = torch.tensor(np.array(X_test), dtype=torch.float)\n",
    "Y_train = torch.tensor(np.array(Y_train), dtype=torch.float).view(-1,1)\n",
    "Y_test = torch.tensor(np.array(Y_test), dtype=torch.float).view(-1,1)"
   ]
  },
  {
   "cell_type": "code",
   "execution_count": 7,
   "metadata": {},
   "outputs": [],
   "source": [
    "dataset = torch.utils.data.TensorDataset(X_train,Y_train)"
   ]
  },
  {
   "cell_type": "code",
   "execution_count": 8,
   "metadata": {},
   "outputs": [],
   "source": [
    "train_loader = torch.utils.data.DataLoader(dataset,batch_size=16)"
   ]
  },
  {
   "cell_type": "code",
   "execution_count": 9,
   "metadata": {},
   "outputs": [],
   "source": [
    "classificador = nn.Sequential(\n",
    "    nn.Linear(in_features=14,out_features=40),\n",
    "    nn.Sigmoid(),\n",
    "    nn.Linear(40,40),\n",
    "    nn.Sigmoid(),\n",
    "    nn.Linear(40,1),\n",
    "    nn.Sigmoid(),\n",
    ")"
   ]
  },
  {
   "cell_type": "code",
   "execution_count": 10,
   "metadata": {},
   "outputs": [],
   "source": [
    "critetion = nn.BCELoss()"
   ]
  },
  {
   "cell_type": "code",
   "execution_count": 11,
   "metadata": {},
   "outputs": [],
   "source": [
    "optimizer = torch.optim.Adam(classificador.parameters(), lr=0.001, weight_decay=0.0001)"
   ]
  },
  {
   "cell_type": "code",
   "execution_count": 12,
   "metadata": {
    "scrolled": false
   },
   "outputs": [
    {
     "name": "stdout",
     "output_type": "stream",
     "text": [
      "Época   1: perda 0.44257\n",
      "Época   2: perda 0.24742\n",
      "Época   3: perda 0.22313\n",
      "Época   4: perda 0.22081\n",
      "Época   5: perda 0.21980\n",
      "Época   6: perda 0.21925\n",
      "Época   7: perda 0.21892\n",
      "Época   8: perda 0.21870\n",
      "Época   9: perda 0.21855\n",
      "Época  10: perda 0.21844\n",
      "Época  11: perda 0.21836\n",
      "Época  12: perda 0.21830\n",
      "Época  13: perda 0.21825\n",
      "Época  14: perda 0.21821\n",
      "Época  15: perda 0.21818\n",
      "Época  16: perda 0.21815\n",
      "Época  17: perda 0.21812\n",
      "Época  18: perda 0.21810\n",
      "Época  19: perda 0.21807\n",
      "Época  20: perda 0.21805\n"
     ]
    }
   ],
   "source": [
    "for epoch in range(20):\n",
    "    running_loss = 0.\n",
    "    for data in train_loader:\n",
    "        #print(data)\n",
    "        inputs, labels = data\n",
    "        optimizer.zero_grad()\n",
    "        \n",
    "        outputs = classificador(inputs)\n",
    "        loss = critetion(outputs,labels)\n",
    "        loss.backward()\n",
    "        optimizer.step()\n",
    "\n",
    "        running_loss += loss.item()\n",
    "    print('Época %3d: perda %.5f' % (epoch+1, running_loss/len(train_loader)))"
   ]
  },
  {
   "cell_type": "code",
   "execution_count": 13,
   "metadata": {
    "scrolled": true
   },
   "outputs": [
    {
     "data": {
      "text/plain": [
       "Sequential(\n",
       "  (0): Linear(in_features=14, out_features=40, bias=True)\n",
       "  (1): Sigmoid()\n",
       "  (2): Linear(in_features=40, out_features=40, bias=True)\n",
       "  (3): Sigmoid()\n",
       "  (4): Linear(in_features=40, out_features=1, bias=True)\n",
       "  (5): Sigmoid()\n",
       ")"
      ]
     },
     "execution_count": 13,
     "metadata": {},
     "output_type": "execute_result"
    }
   ],
   "source": [
    "classificador.eval()"
   ]
  },
  {
   "cell_type": "code",
   "execution_count": 14,
   "metadata": {},
   "outputs": [],
   "source": [
    "previsoes = classificador.forward(X_test)"
   ]
  },
  {
   "cell_type": "code",
   "execution_count": 24,
   "metadata": {},
   "outputs": [],
   "source": [
    "previsoes_ = np.array(previsoes > 0.4)"
   ]
  },
  {
   "cell_type": "code",
   "execution_count": 25,
   "metadata": {},
   "outputs": [
    {
     "data": {
      "text/plain": [
       "0.9076429030186256"
      ]
     },
     "execution_count": 25,
     "metadata": {},
     "output_type": "execute_result"
    }
   ],
   "source": [
    "accuracy_score(Y_test, previsoes_)"
   ]
  },
  {
   "cell_type": "code",
   "execution_count": 26,
   "metadata": {
    "scrolled": true
   },
   "outputs": [
    {
     "data": {
      "text/plain": [
       "array([[23303,     6],\n",
       "       [ 4308, 19093]], dtype=int64)"
      ]
     },
     "execution_count": 26,
     "metadata": {},
     "output_type": "execute_result"
    }
   ],
   "source": [
    "confusion_matrix(Y_test, previsoes_)"
   ]
  }
 ],
 "metadata": {
  "kernelspec": {
   "display_name": "Python 3",
   "language": "python",
   "name": "python3"
  },
  "language_info": {
   "codemirror_mode": {
    "name": "ipython",
    "version": 3
   },
   "file_extension": ".py",
   "mimetype": "text/x-python",
   "name": "python",
   "nbconvert_exporter": "python",
   "pygments_lexer": "ipython3",
   "version": "3.8.3"
  }
 },
 "nbformat": 4,
 "nbformat_minor": 4
}
